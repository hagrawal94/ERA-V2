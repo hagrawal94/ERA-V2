{
  "cells": [
    {
      "cell_type": "code",
      "execution_count": 214,
      "metadata": {
        "id": "CK7gH5qxus4L"
      },
      "outputs": [],
      "source": [
        "from __future__ import print_function\n",
        "import torch\n",
        "import torch.nn as nn\n",
        "import torch.nn.functional as F\n",
        "import torch.optim as optim\n",
        "from torchvision import datasets, transforms\n",
        "import os\n",
        "os.environ['KMP_DUPLICATE_LIB_OK']='True'"
      ]
    },
    {
      "cell_type": "code",
      "execution_count": 215,
      "metadata": {
        "id": "kDJAQbH4us4N"
      },
      "outputs": [],
      "source": [
        "import albumentations as A\n",
        "from albumentations.pytorch import ToTensorV2\n",
        "\n",
        "class CIFAR10Albumentations(datasets.CIFAR10):\n",
        "    def __init__(self, root, train=True, download=True, transform=None, albumentations_transform=None):\n",
        "        super(CIFAR10Albumentations, self).__init__(root, train=train, download=download, transform=transform)\n",
        "        self.albumentations_transform = albumentations_transform\n",
        "\n",
        "    def __getitem__(self, index):\n",
        "        # Fetching the image and label from the CIFAR10 dataset\n",
        "        img, label = super(CIFAR10Albumentations, self).__getitem__(index)\n",
        "\n",
        "        # Convert PIL image to numpy array\n",
        "        img = np.array(img)\n",
        "\n",
        "        # Apply Albumentations transformations\n",
        "        if self.albumentations_transform:\n",
        "            augmented = self.albumentations_transform(image=img)\n",
        "            img = augmented['image']\n",
        "\n",
        "        return img, label\n",
        "\n",
        "# Dataset mean and std for normalization\n",
        "mean = (0.4914, 0.4822, 0.4465)\n",
        "std = (0.2023, 0.1994, 0.2010)\n",
        "\n",
        "# Define the train transformations using Albumentations\n",
        "train_transforms = A.Compose([\n",
        "                              A.HorizontalFlip(p=0.5),  # Horizontal flip with 50% probability\n",
        "                              A.ShiftScaleRotate(shift_limit=0.0625, scale_limit=0.1, rotate_limit=15, p=0.5),  # ShiftScaleRotate\n",
        "                              A.CoarseDropout(max_holes=1, max_height=16, max_width=16, min_holes=1, min_height=16, min_width=16, fill_value=tuple([x * 255 for x in mean]), p=0.5),  # CoarseDropout\n",
        "                              A.Normalize(mean=mean, std=std),  # Normalize\n",
        "                              ToTensorV2()  # Convert to tensor\n",
        "                              ])\n",
        "\n",
        "# Test Phase transformations\n",
        "test_transforms = transforms.Compose([\n",
        "                                      #  transforms.Resize((28, 28)),\n",
        "                                      #  transforms.ColorJitter(brightness=0.10, contrast=0.1, saturation=0.10, hue=0.1),\n",
        "                                       transforms.ToTensor(),\n",
        "                                       transforms.Normalize((0.4914, 0.4822, 0.4465), (0.2023, 0.1994, 0.2010))\n",
        "                                       ])\n"
      ]
    },
    {
      "cell_type": "code",
      "execution_count": 216,
      "metadata": {
        "id": "kCMydL5pus4O",
        "outputId": "3b32313c-6c73-4215-9b62-5c53af684217",
        "colab": {
          "base_uri": "https://localhost:8080/"
        }
      },
      "outputs": [
        {
          "output_type": "stream",
          "name": "stdout",
          "text": [
            "Files already downloaded and verified\n"
          ]
        }
      ],
      "source": [
        "# train = datasets.CIFAR10(root='./data', train=True,\n",
        "#                                         download=True, transform=train_transforms)\n",
        "test = datasets.CIFAR10(root='./data', train=False,\n",
        "                                       download=True, transform=test_transforms)"
      ]
    },
    {
      "cell_type": "code",
      "execution_count": 217,
      "metadata": {
        "id": "Iq9lWK4Rus4O",
        "outputId": "2623f302-1c0d-4010-f1c9-5ff985cabb74",
        "colab": {
          "base_uri": "https://localhost:8080/"
        }
      },
      "outputs": [
        {
          "output_type": "stream",
          "name": "stdout",
          "text": [
            "CUDA Available? True\n",
            "Files already downloaded and verified\n"
          ]
        },
        {
          "output_type": "stream",
          "name": "stderr",
          "text": [
            "/usr/local/lib/python3.10/dist-packages/torch/utils/data/dataloader.py:558: UserWarning: This DataLoader will create 4 worker processes in total. Our suggested max number of worker in current system is 2, which is smaller than what this DataLoader is going to create. Please be aware that excessive worker creation might get DataLoader running slow or even freeze, lower the worker number to avoid potential slowness/freeze if necessary.\n",
            "  warnings.warn(_create_warning_msg(\n"
          ]
        }
      ],
      "source": [
        "SEED = 1\n",
        "\n",
        "# CUDA?\n",
        "cuda = torch.cuda.is_available()\n",
        "print(\"CUDA Available?\", cuda)\n",
        "\n",
        "# For reproducibility\n",
        "torch.manual_seed(SEED)\n",
        "\n",
        "if cuda:\n",
        "    torch.cuda.manual_seed(SEED)\n",
        "\n",
        "# dataloader arguments - something you'll fetch these from cmdprmt\n",
        "dataloader_args = dict(shuffle=True, batch_size=512, num_workers=4, pin_memory=True) if cuda else dict(shuffle=True, batch_size=64)\n",
        "\n",
        "# train dataloader\n",
        "train_dataset = CIFAR10Albumentations(root='./data', train=True, download=True, albumentations_transform=train_transforms)\n",
        "train_loader = torch.utils.data.DataLoader(train_dataset, **dataloader_args)\n",
        "\n",
        "# test dataloader\n",
        "test_loader = torch.utils.data.DataLoader(test, **dataloader_args)"
      ]
    },
    {
      "cell_type": "code",
      "execution_count": 218,
      "metadata": {
        "id": "mGIbylssus4P",
        "outputId": "3d324d04-3d18-4219-b046-0e739c0f6b13",
        "colab": {
          "base_uri": "https://localhost:8080/",
          "height": 249
        }
      },
      "outputs": [
        {
          "output_type": "stream",
          "name": "stderr",
          "text": [
            "WARNING:matplotlib.image:Clipping input data to the valid range for imshow with RGB data ([0..1] for floats or [0..255] for integers).\n"
          ]
        },
        {
          "output_type": "display_data",
          "data": {
            "text/plain": [
              "<Figure size 640x480 with 1 Axes>"
            ],
            "image/png": "[encoded data removed]"
          },
          "metadata": {}
        },
        {
          "output_type": "stream",
          "name": "stdout",
          "text": [
            "ship  bird  cat   dog  \n"
          ]
        }
      ],
      "source": [
        "import matplotlib.pyplot as plt\n",
        "import numpy as np\n",
        "\n",
        "# functions to show an image\n",
        "\n",
        "\n",
        "def imshow(img):\n",
        "    img = img / 2 + 0.5     # unnormalize\n",
        "    npimg = img.numpy()\n",
        "    plt.imshow(np.transpose(npimg, (1, 2, 0)))\n",
        "    plt.show()\n",
        "\n",
        "\n",
        "# get some random training images\n",
        "dataiter = iter(train_loader)\n",
        "images, labels = next(dataiter)\n",
        "classes = ('plane', 'car', 'bird', 'cat',\n",
        "           'deer', 'dog', 'frog', 'horse', 'ship', 'truck')\n",
        "\n",
        "import torchvision\n",
        "# show images\n",
        "imshow(torchvision.utils.make_grid(images[:4]))\n",
        "# print labels\n",
        "print(' '.join(f'{classes[labels[j]]:5s}' for j in range(4)))"
      ]
    },
    {
      "cell_type": "code",
      "execution_count": 219,
      "metadata": {
        "id": "-1oVPfnEus4P"
      },
      "outputs": [],
      "source": [
        "import torch.nn.functional as F\n",
        "dropout_value = 0.1\n",
        "class Net(nn.Module):\n",
        "    def __init__(self):\n",
        "        super(Net, self).__init__()\n",
        "        # Convolution Block 1 - Standard Convolution\n",
        "        self.convblock1 = nn.Sequential(\n",
        "            nn.Conv2d(in_channels=3, out_channels=16, kernel_size=3, padding=2, stride=2),  # Reduced channels\n",
        "            nn.ReLU(),\n",
        "            nn.BatchNorm2d(16),\n",
        "            # nn.Dropout(dropout_value),\n",
        "            nn.Conv2d(in_channels=16, out_channels=32, kernel_size=3, padding=2, stride=2),  # Reduced channels\n",
        "            nn.ReLU(),\n",
        "            nn.BatchNorm2d(32),\n",
        "            # nn.Dropout(dropout_value),\n",
        "            nn.Conv2d(in_channels=32, out_channels=64, kernel_size=3, padding=2, stride=2),  # Adjusted channels\n",
        "            nn.ReLU(),\n",
        "            nn.BatchNorm2d(64),\n",
        "            nn.Dropout(dropout_value),\n",
        "        )  # Receptive field: 9\n",
        "\n",
        "        # Convolution Block 2 - Standard Convolution\n",
        "        self.convblock2 = nn.Sequential(\n",
        "            nn.Conv2d(in_channels=64, out_channels=128, kernel_size=3, padding=2, stride=2, groups=64),\n",
        "            nn.ReLU(),\n",
        "            nn.BatchNorm2d(128),\n",
        "            # nn.Dropout(dropout_value),\n",
        "            nn.Conv2d(in_channels=128, out_channels=128, kernel_size=3, padding=2, stride=2, groups=128),\n",
        "            nn.ReLU(),\n",
        "            nn.BatchNorm2d(128),\n",
        "            # nn.Dropout(dropout_value),\n",
        "            nn.Conv2d(in_channels=128, out_channels=256, kernel_size=3, padding=2, stride=2, groups=128),\n",
        "            nn.ReLU(),\n",
        "            nn.BatchNorm2d(256),\n",
        "            nn.Dropout(dropout_value),\n",
        "        )  # Receptive field: 14\n",
        "\n",
        "        # Convolution Block 3 - Depthwise Separable Convolution with Dilation\n",
        "        self.convblock3 = nn.Sequential(\n",
        "            nn.Conv2d(in_channels=256, out_channels=256, kernel_size=3, padding=2, stride=2, groups=256),\n",
        "            nn.ReLU(),\n",
        "            nn.BatchNorm2d(256),\n",
        "            nn.Conv2d(in_channels=256, out_channels=256, kernel_size=1),  # Pointwise\n",
        "            nn.ReLU(),\n",
        "            nn.BatchNorm2d(256),\n",
        "            nn.Conv2d(in_channels=256, out_channels=512, kernel_size=3, padding=4, stride=2, groups=256, dilation=2),\n",
        "            nn.ReLU(),\n",
        "            nn.BatchNorm2d(512),\n",
        "            nn.Dropout(dropout_value),\n",
        "        )  # Receptive field: 32 (approx, considering dilations)\n",
        "\n",
        "        # Convolution Block 4 - Depthwise Separable Convolution\n",
        "        self.convblock4 = nn.Sequential(\n",
        "            nn.Conv2d(in_channels=512, out_channels=256, kernel_size=3, padding=4, stride=2, groups=256, dilation=2),\n",
        "            nn.ReLU(),\n",
        "            nn.BatchNorm2d(256),\n",
        "            nn.Conv2d(in_channels=256, out_channels=256, kernel_size=1),  # Pointwise\n",
        "            nn.ReLU(),\n",
        "            nn.BatchNorm2d(256),\n",
        "            nn.Conv2d(in_channels=256, out_channels=64, kernel_size=3, padding=2, stride=2, groups=64),\n",
        "            nn.ReLU(),\n",
        "            nn.BatchNorm2d(64),\n",
        "            nn.Dropout(dropout_value),\n",
        "            # nn.Conv2d(in_channels=256, out_channels=512, kernel_size=3, padding=1, stride=2, groups=256), # Stride 2 here\n",
        "\n",
        "\n",
        "            # nn.Conv2d(in_channels=128, out_channels=64, kernel_size=1),  # Pointwise\n",
        "            # nn.ReLU(),\n",
        "            # nn.BatchNorm2d(64)\n",
        "        )  # Receptive field: 44 (approx)\n",
        "\n",
        "        # OUTPUT BLOCK\n",
        "        self.gap = nn.Sequential(\n",
        "            nn.AvgPool2d(kernel_size=3)\n",
        "        ) # output_size = 1\n",
        "\n",
        "        self.convblock5 = nn.Sequential(\n",
        "            nn.Conv2d(in_channels=64, out_channels=10, kernel_size=(1, 1), padding=0, bias=False),\n",
        "            # nn.BatchNorm2d(10),\n",
        "            # nn.ReLU(),\n",
        "            # nn.Dropout(dropout_value)\n",
        "        )\n",
        "\n",
        "        self.dropout = nn.Dropout(dropout_value)\n",
        "\n",
        "    def forward(self, x):\n",
        "        x = self.convblock1(x)\n",
        "        x = self.convblock2(x)\n",
        "        x = self.convblock3(x)\n",
        "        x = self.convblock4(x)\n",
        "        x = self.gap(x)\n",
        "        x = self.convblock5(x)\n",
        "\n",
        "        x = x.view(-1, 10)\n",
        "        return F.log_softmax(x, dim=-1)"
      ]
    },
    {
      "cell_type": "code",
      "execution_count": 220,
      "metadata": {
        "id": "1Jg9Fe4ous4P",
        "outputId": "98737c9e-1419-41d0-c30f-391897c74c0a",
        "colab": {
          "base_uri": "https://localhost:8080/"
        }
      },
      "outputs": [
        {
          "output_type": "stream",
          "name": "stdout",
          "text": [
            "Requirement already satisfied: torchsummary in /usr/local/lib/python3.10/dist-packages (1.5.1)\n",
            "cuda\n",
            "----------------------------------------------------------------\n",
            "        Layer (type)               Output Shape         Param #\n",
            "================================================================\n",
            "            Conv2d-1           [-1, 16, 17, 17]             448\n",
            "              ReLU-2           [-1, 16, 17, 17]               0\n",
            "       BatchNorm2d-3           [-1, 16, 17, 17]              32\n",
            "            Conv2d-4           [-1, 32, 10, 10]           4,640\n",
            "              ReLU-5           [-1, 32, 10, 10]               0\n",
            "       BatchNorm2d-6           [-1, 32, 10, 10]              64\n",
            "            Conv2d-7             [-1, 64, 6, 6]          18,496\n",
            "              ReLU-8             [-1, 64, 6, 6]               0\n",
            "       BatchNorm2d-9             [-1, 64, 6, 6]             128\n",
            "          Dropout-10             [-1, 64, 6, 6]               0\n",
            "           Conv2d-11            [-1, 128, 4, 4]           1,280\n",
            "             ReLU-12            [-1, 128, 4, 4]               0\n",
            "      BatchNorm2d-13            [-1, 128, 4, 4]             256\n",
            "           Conv2d-14            [-1, 128, 3, 3]           1,280\n",
            "             ReLU-15            [-1, 128, 3, 3]               0\n",
            "      BatchNorm2d-16            [-1, 128, 3, 3]             256\n",
            "           Conv2d-17            [-1, 256, 3, 3]           2,560\n",
            "             ReLU-18            [-1, 256, 3, 3]               0\n",
            "      BatchNorm2d-19            [-1, 256, 3, 3]             512\n",
            "          Dropout-20            [-1, 256, 3, 3]               0\n",
            "           Conv2d-21            [-1, 256, 3, 3]           2,560\n",
            "             ReLU-22            [-1, 256, 3, 3]               0\n",
            "      BatchNorm2d-23            [-1, 256, 3, 3]             512\n",
            "           Conv2d-24            [-1, 256, 3, 3]          65,792\n",
            "             ReLU-25            [-1, 256, 3, 3]               0\n",
            "      BatchNorm2d-26            [-1, 256, 3, 3]             512\n",
            "           Conv2d-27            [-1, 512, 4, 4]           5,120\n",
            "             ReLU-28            [-1, 512, 4, 4]               0\n",
            "      BatchNorm2d-29            [-1, 512, 4, 4]           1,024\n",
            "          Dropout-30            [-1, 512, 4, 4]               0\n",
            "           Conv2d-31            [-1, 256, 4, 4]           4,864\n",
            "             ReLU-32            [-1, 256, 4, 4]               0\n",
            "      BatchNorm2d-33            [-1, 256, 4, 4]             512\n",
            "           Conv2d-34            [-1, 256, 4, 4]          65,792\n",
            "             ReLU-35            [-1, 256, 4, 4]               0\n",
            "      BatchNorm2d-36            [-1, 256, 4, 4]             512\n",
            "           Conv2d-37             [-1, 64, 3, 3]           2,368\n",
            "             ReLU-38             [-1, 64, 3, 3]               0\n",
            "      BatchNorm2d-39             [-1, 64, 3, 3]             128\n",
            "          Dropout-40             [-1, 64, 3, 3]               0\n",
            "        AvgPool2d-41             [-1, 64, 1, 1]               0\n",
            "           Conv2d-42             [-1, 10, 1, 1]             640\n",
            "================================================================\n",
            "Total params: 180,288\n",
            "Trainable params: 180,288\n",
            "Non-trainable params: 0\n",
            "----------------------------------------------------------------\n",
            "Input size (MB): 0.01\n",
            "Forward/backward pass size (MB): 0.95\n",
            "Params size (MB): 0.69\n",
            "Estimated Total Size (MB): 1.65\n",
            "----------------------------------------------------------------\n"
          ]
        }
      ],
      "source": [
        "!pip install torchsummary\n",
        "from torchsummary import summary\n",
        "use_cuda = torch.cuda.is_available()\n",
        "device = torch.device(\"cuda\" if use_cuda else \"cpu\")\n",
        "print(device)\n",
        "model = Net().to(device)\n",
        "summary(model, input_size=(3, 32, 32))"
      ]
    },
    {
      "cell_type": "code",
      "execution_count": 221,
      "metadata": {
        "id": "VP0IA6FDus4P"
      },
      "outputs": [],
      "source": [
        "from tqdm import tqdm\n",
        "\n",
        "train_losses = []\n",
        "test_losses = []\n",
        "train_acc = []\n",
        "test_acc = []\n",
        "\n",
        "def train(model, device, train_loader, optimizer, epoch):\n",
        "  model.train()\n",
        "  pbar = tqdm(train_loader)\n",
        "  correct = 0\n",
        "  processed = 0\n",
        "  for batch_idx, (data, target) in enumerate(pbar):\n",
        "    # get samples\n",
        "    data, target = data.to(device), target.to(device)\n",
        "\n",
        "    # Init\n",
        "    optimizer.zero_grad()\n",
        "    # In PyTorch, we need to set the gradients to zero before starting to do backpropragation because PyTorch accumulates the gradients on subsequent backward passes.\n",
        "    # Because of this, when you start your training loop, ideally you should zero out the gradients so that you do the parameter update correctly.\n",
        "\n",
        "    # Predict\n",
        "    y_pred = model(data)\n",
        "\n",
        "    # Calculate loss\n",
        "    loss = F.nll_loss(y_pred, target)\n",
        "    train_losses.append(loss)\n",
        "\n",
        "    # Backpropagation\n",
        "    loss.backward()\n",
        "    optimizer.step()\n",
        "\n",
        "    # Update pbar-tqdm\n",
        "\n",
        "    pred = y_pred.argmax(dim=1, keepdim=True)  # get the index of the max log-probability\n",
        "    correct += pred.eq(target.view_as(pred)).sum().item()\n",
        "    processed += len(data)\n",
        "\n",
        "    pbar.set_description(desc= f'Loss={loss.item()} Batch_id={batch_idx} Accuracy={100*correct/processed:0.2f}')\n",
        "    train_acc.append(100*correct/processed)\n",
        "\n",
        "def test(model, device, test_loader):\n",
        "    model.eval()\n",
        "    test_loss = 0\n",
        "    correct = 0\n",
        "    with torch.no_grad():\n",
        "        for data, target in test_loader:\n",
        "            data, target = data.to(device), target.to(device)\n",
        "            output = model(data)\n",
        "            test_loss += F.nll_loss(output, target, reduction='sum').item()  # sum up batch loss\n",
        "            pred = output.argmax(dim=1, keepdim=True)  # get the index of the max log-probability\n",
        "            correct += pred.eq(target.view_as(pred)).sum().item()\n",
        "\n",
        "    test_loss /= len(test_loader.dataset)\n",
        "    test_losses.append(test_loss)\n",
        "\n",
        "    print('\\nTest set: Average loss: {:.4f}, Accuracy: {}/{} ({:.2f}%)\\n'.format(\n",
        "        test_loss, correct, len(test_loader.dataset),\n",
        "        100. * correct / len(test_loader.dataset)))\n",
        "\n",
        "    test_acc.append(100. * correct / len(test_loader.dataset))"
      ]
    },
    {
      "cell_type": "code",
      "execution_count": 222,
      "metadata": {
        "id": "3Kc2o_AIus4Q",
        "outputId": "7de0660c-f8fc-4b71-8adc-1aa8950c9e26",
        "colab": {
          "base_uri": "https://localhost:8080/"
        }
      },
      "outputs": [
        {
          "output_type": "stream",
          "name": "stdout",
          "text": [
            "EPOCH: 0\n"
          ]
        },
        {
          "output_type": "stream",
          "name": "stderr",
          "text": [
            "Loss=1.9196670055389404 Batch_id=97 Accuracy=20.59: 100%|██████████| 98/98 [00:13<00:00,  7.50it/s]\n"
          ]
        },
        {
          "output_type": "stream",
          "name": "stdout",
          "text": [
            "\n",
            "Test set: Average loss: 1.8671, Accuracy: 3160/10000 (31.60%)\n",
            "\n",
            "EPOCH: 1\n"
          ]
        },
        {
          "output_type": "stream",
          "name": "stderr",
          "text": [
            "Loss=1.7681589126586914 Batch_id=97 Accuracy=32.01: 100%|██████████| 98/98 [00:12<00:00,  7.67it/s]\n"
          ]
        },
        {
          "output_type": "stream",
          "name": "stdout",
          "text": [
            "\n",
            "Test set: Average loss: 1.6663, Accuracy: 3907/10000 (39.07%)\n",
            "\n",
            "EPOCH: 2\n"
          ]
        },
        {
          "output_type": "stream",
          "name": "stderr",
          "text": [
            "Loss=1.7331453561782837 Batch_id=97 Accuracy=36.01: 100%|██████████| 98/98 [00:12<00:00,  7.56it/s]\n"
          ]
        },
        {
          "output_type": "stream",
          "name": "stdout",
          "text": [
            "\n",
            "Test set: Average loss: 1.5634, Accuracy: 4255/10000 (42.55%)\n",
            "\n",
            "EPOCH: 3\n"
          ]
        },
        {
          "output_type": "stream",
          "name": "stderr",
          "text": [
            "Loss=1.6549192667007446 Batch_id=97 Accuracy=38.93: 100%|██████████| 98/98 [00:12<00:00,  7.55it/s]\n"
          ]
        },
        {
          "output_type": "stream",
          "name": "stdout",
          "text": [
            "\n",
            "Test set: Average loss: 1.4780, Accuracy: 4561/10000 (45.61%)\n",
            "\n",
            "EPOCH: 4\n"
          ]
        },
        {
          "output_type": "stream",
          "name": "stderr",
          "text": [
            "Loss=1.5934580564498901 Batch_id=97 Accuracy=41.19: 100%|██████████| 98/98 [00:13<00:00,  7.49it/s]\n"
          ]
        },
        {
          "output_type": "stream",
          "name": "stdout",
          "text": [
            "\n",
            "Test set: Average loss: 1.4267, Accuracy: 4735/10000 (47.35%)\n",
            "\n",
            "EPOCH: 5\n"
          ]
        },
        {
          "output_type": "stream",
          "name": "stderr",
          "text": [
            "Loss=1.4901214838027954 Batch_id=97 Accuracy=42.54: 100%|██████████| 98/98 [00:12<00:00,  7.59it/s]\n"
          ]
        },
        {
          "output_type": "stream",
          "name": "stdout",
          "text": [
            "\n",
            "Test set: Average loss: 1.4033, Accuracy: 4801/10000 (48.01%)\n",
            "\n",
            "EPOCH: 6\n"
          ]
        },
        {
          "output_type": "stream",
          "name": "stderr",
          "text": [
            "Loss=1.5111348628997803 Batch_id=97 Accuracy=44.28: 100%|██████████| 98/98 [00:13<00:00,  7.14it/s]\n"
          ]
        },
        {
          "output_type": "stream",
          "name": "stdout",
          "text": [
            "\n",
            "Test set: Average loss: 1.3456, Accuracy: 4983/10000 (49.83%)\n",
            "\n",
            "EPOCH: 7\n"
          ]
        },
        {
          "output_type": "stream",
          "name": "stderr",
          "text": [
            "Loss=1.4589247703552246 Batch_id=97 Accuracy=45.28: 100%|██████████| 98/98 [00:13<00:00,  7.44it/s]\n"
          ]
        },
        {
          "output_type": "stream",
          "name": "stdout",
          "text": [
            "\n",
            "Test set: Average loss: 1.3463, Accuracy: 5013/10000 (50.13%)\n",
            "\n",
            "EPOCH: 8\n"
          ]
        },
        {
          "output_type": "stream",
          "name": "stderr",
          "text": [
            "Loss=1.3783761262893677 Batch_id=97 Accuracy=46.42: 100%|██████████| 98/98 [00:13<00:00,  7.49it/s]\n"
          ]
        },
        {
          "output_type": "stream",
          "name": "stdout",
          "text": [
            "\n",
            "Test set: Average loss: 1.2810, Accuracy: 5274/10000 (52.74%)\n",
            "\n",
            "EPOCH: 9\n"
          ]
        },
        {
          "output_type": "stream",
          "name": "stderr",
          "text": [
            "Loss=1.3641622066497803 Batch_id=97 Accuracy=47.16: 100%|██████████| 98/98 [00:14<00:00,  6.72it/s]\n"
          ]
        },
        {
          "output_type": "stream",
          "name": "stdout",
          "text": [
            "\n",
            "Test set: Average loss: 1.2631, Accuracy: 5335/10000 (53.35%)\n",
            "\n",
            "EPOCH: 10\n"
          ]
        },
        {
          "output_type": "stream",
          "name": "stderr",
          "text": [
            "Loss=1.4473391771316528 Batch_id=97 Accuracy=48.12: 100%|██████████| 98/98 [00:13<00:00,  7.37it/s]\n"
          ]
        },
        {
          "output_type": "stream",
          "name": "stdout",
          "text": [
            "\n",
            "Test set: Average loss: 1.2299, Accuracy: 5491/10000 (54.91%)\n",
            "\n",
            "EPOCH: 11\n"
          ]
        },
        {
          "output_type": "stream",
          "name": "stderr",
          "text": [
            "Loss=1.305370807647705 Batch_id=97 Accuracy=49.11: 100%|██████████| 98/98 [00:12<00:00,  7.55it/s]\n"
          ]
        },
        {
          "output_type": "stream",
          "name": "stdout",
          "text": [
            "\n",
            "Test set: Average loss: 1.2250, Accuracy: 5535/10000 (55.35%)\n",
            "\n",
            "EPOCH: 12\n"
          ]
        },
        {
          "output_type": "stream",
          "name": "stderr",
          "text": [
            "Loss=1.4017257690429688 Batch_id=97 Accuracy=49.93: 100%|██████████| 98/98 [00:13<00:00,  7.52it/s]\n"
          ]
        },
        {
          "output_type": "stream",
          "name": "stdout",
          "text": [
            "\n",
            "Test set: Average loss: 1.1812, Accuracy: 5681/10000 (56.81%)\n",
            "\n",
            "EPOCH: 13\n"
          ]
        },
        {
          "output_type": "stream",
          "name": "stderr",
          "text": [
            "Loss=1.2967700958251953 Batch_id=97 Accuracy=50.82: 100%|██████████| 98/98 [00:13<00:00,  7.41it/s]\n"
          ]
        },
        {
          "output_type": "stream",
          "name": "stdout",
          "text": [
            "\n",
            "Test set: Average loss: 1.2009, Accuracy: 5569/10000 (55.69%)\n",
            "\n",
            "EPOCH: 14\n"
          ]
        },
        {
          "output_type": "stream",
          "name": "stderr",
          "text": [
            "Loss=1.3283158540725708 Batch_id=97 Accuracy=50.55: 100%|██████████| 98/98 [00:13<00:00,  7.38it/s]\n"
          ]
        },
        {
          "output_type": "stream",
          "name": "stdout",
          "text": [
            "\n",
            "Test set: Average loss: 1.1857, Accuracy: 5590/10000 (55.90%)\n",
            "\n",
            "EPOCH: 15\n"
          ]
        },
        {
          "output_type": "stream",
          "name": "stderr",
          "text": [
            "Loss=1.3533549308776855 Batch_id=97 Accuracy=51.93: 100%|██████████| 98/98 [00:13<00:00,  7.42it/s]\n"
          ]
        },
        {
          "output_type": "stream",
          "name": "stdout",
          "text": [
            "\n",
            "Test set: Average loss: 1.1542, Accuracy: 5738/10000 (57.38%)\n",
            "\n",
            "EPOCH: 16\n"
          ]
        },
        {
          "output_type": "stream",
          "name": "stderr",
          "text": [
            "Loss=1.263954758644104 Batch_id=97 Accuracy=52.37: 100%|██████████| 98/98 [00:13<00:00,  7.50it/s]\n"
          ]
        },
        {
          "output_type": "stream",
          "name": "stdout",
          "text": [
            "\n",
            "Test set: Average loss: 1.1546, Accuracy: 5785/10000 (57.85%)\n",
            "\n",
            "EPOCH: 17\n"
          ]
        },
        {
          "output_type": "stream",
          "name": "stderr",
          "text": [
            "Loss=1.2905168533325195 Batch_id=97 Accuracy=52.91: 100%|██████████| 98/98 [00:13<00:00,  7.53it/s]\n"
          ]
        },
        {
          "output_type": "stream",
          "name": "stdout",
          "text": [
            "\n",
            "Test set: Average loss: 1.1417, Accuracy: 5813/10000 (58.13%)\n",
            "\n",
            "EPOCH: 18\n"
          ]
        },
        {
          "output_type": "stream",
          "name": "stderr",
          "text": [
            "Loss=1.301373839378357 Batch_id=97 Accuracy=53.38: 100%|██████████| 98/98 [00:12<00:00,  7.58it/s]\n"
          ]
        },
        {
          "output_type": "stream",
          "name": "stdout",
          "text": [
            "\n",
            "Test set: Average loss: 1.1367, Accuracy: 5868/10000 (58.68%)\n",
            "\n",
            "EPOCH: 19\n"
          ]
        },
        {
          "output_type": "stream",
          "name": "stderr",
          "text": [
            "Loss=1.2925996780395508 Batch_id=97 Accuracy=53.75: 100%|██████████| 98/98 [00:13<00:00,  7.46it/s]\n"
          ]
        },
        {
          "output_type": "stream",
          "name": "stdout",
          "text": [
            "\n",
            "Test set: Average loss: 1.1217, Accuracy: 5941/10000 (59.41%)\n",
            "\n"
          ]
        }
      ],
      "source": [
        "from torch.optim.lr_scheduler import StepLR\n",
        "\n",
        "model =  Net().to(device)\n",
        "optimizer = optim.SGD(model.parameters(), lr=0.01, momentum=0.9)\n",
        "# scheduler = StepLR(optimizer, step_size=6, gamma=0.1)\n",
        "\n",
        "\n",
        "EPOCHS = 20\n",
        "for epoch in range(EPOCHS):\n",
        "    print(\"EPOCH:\", epoch)\n",
        "    train(model, device, train_loader, optimizer, epoch)\n",
        "    # scheduler.step()\n",
        "    test(model, device, test_loader)"
      ]
    },
    {
      "cell_type": "code",
      "execution_count": 223,
      "metadata": {
        "id": "zzEEHWpuus4Q",
        "outputId": "b76a5c2d-9bc1-4c97-dd99-b7702be030be",
        "colab": {
          "base_uri": "https://localhost:8080/"
        }
      },
      "outputs": [
        {
          "output_type": "execute_result",
          "data": {
            "text/plain": [
              "Net(\n",
              "  (convblock1): Sequential(\n",
              "    (0): Conv2d(3, 16, kernel_size=(3, 3), stride=(2, 2), padding=(2, 2))\n",
              "    (1): ReLU()\n",
              "    (2): BatchNorm2d(16, eps=1e-05, momentum=0.1, affine=True, track_running_stats=True)\n",
              "    (3): Conv2d(16, 32, kernel_size=(3, 3), stride=(2, 2), padding=(2, 2))\n",
              "    (4): ReLU()\n",
              "    (5): BatchNorm2d(32, eps=1e-05, momentum=0.1, affine=True, track_running_stats=True)\n",
              "    (6): Conv2d(32, 64, kernel_size=(3, 3), stride=(2, 2), padding=(2, 2))\n",
              "    (7): ReLU()\n",
              "    (8): BatchNorm2d(64, eps=1e-05, momentum=0.1, affine=True, track_running_stats=True)\n",
              "    (9): Dropout(p=0.1, inplace=False)\n",
              "  )\n",
              "  (convblock2): Sequential(\n",
              "    (0): Conv2d(64, 128, kernel_size=(3, 3), stride=(2, 2), padding=(2, 2), groups=64)\n",
              "    (1): ReLU()\n",
              "    (2): BatchNorm2d(128, eps=1e-05, momentum=0.1, affine=True, track_running_stats=True)\n",
              "    (3): Conv2d(128, 128, kernel_size=(3, 3), stride=(2, 2), padding=(2, 2), groups=128)\n",
              "    (4): ReLU()\n",
              "    (5): BatchNorm2d(128, eps=1e-05, momentum=0.1, affine=True, track_running_stats=True)\n",
              "    (6): Conv2d(128, 256, kernel_size=(3, 3), stride=(2, 2), padding=(2, 2), groups=128)\n",
              "    (7): ReLU()\n",
              "    (8): BatchNorm2d(256, eps=1e-05, momentum=0.1, affine=True, track_running_stats=True)\n",
              "    (9): Dropout(p=0.1, inplace=False)\n",
              "  )\n",
              "  (convblock3): Sequential(\n",
              "    (0): Conv2d(256, 256, kernel_size=(3, 3), stride=(2, 2), padding=(2, 2), groups=256)\n",
              "    (1): ReLU()\n",
              "    (2): BatchNorm2d(256, eps=1e-05, momentum=0.1, affine=True, track_running_stats=True)\n",
              "    (3): Conv2d(256, 256, kernel_size=(1, 1), stride=(1, 1))\n",
              "    (4): ReLU()\n",
              "    (5): BatchNorm2d(256, eps=1e-05, momentum=0.1, affine=True, track_running_stats=True)\n",
              "    (6): Conv2d(256, 512, kernel_size=(3, 3), stride=(2, 2), padding=(4, 4), dilation=(2, 2), groups=256)\n",
              "    (7): ReLU()\n",
              "    (8): BatchNorm2d(512, eps=1e-05, momentum=0.1, affine=True, track_running_stats=True)\n",
              "    (9): Dropout(p=0.1, inplace=False)\n",
              "  )\n",
              "  (convblock4): Sequential(\n",
              "    (0): Conv2d(512, 256, kernel_size=(3, 3), stride=(2, 2), padding=(4, 4), dilation=(2, 2), groups=256)\n",
              "    (1): ReLU()\n",
              "    (2): BatchNorm2d(256, eps=1e-05, momentum=0.1, affine=True, track_running_stats=True)\n",
              "    (3): Conv2d(256, 256, kernel_size=(1, 1), stride=(1, 1))\n",
              "    (4): ReLU()\n",
              "    (5): BatchNorm2d(256, eps=1e-05, momentum=0.1, affine=True, track_running_stats=True)\n",
              "    (6): Conv2d(256, 64, kernel_size=(3, 3), stride=(2, 2), padding=(2, 2), groups=64)\n",
              "    (7): ReLU()\n",
              "    (8): BatchNorm2d(64, eps=1e-05, momentum=0.1, affine=True, track_running_stats=True)\n",
              "    (9): Dropout(p=0.1, inplace=False)\n",
              "  )\n",
              "  (gap): Sequential(\n",
              "    (0): AvgPool2d(kernel_size=3, stride=3, padding=0)\n",
              "  )\n",
              "  (convblock5): Sequential(\n",
              "    (0): Conv2d(64, 10, kernel_size=(1, 1), stride=(1, 1), bias=False)\n",
              "  )\n",
              "  (dropout): Dropout(p=0.1, inplace=False)\n",
              ")"
            ]
          },
          "metadata": {},
          "execution_count": 223
        }
      ],
      "source": [
        "model"
      ]
    },
    {
      "cell_type": "code",
      "execution_count": 224,
      "metadata": {
        "id": "qYQ_v4HXus4Q",
        "outputId": "d6e9a247-8252-4525-a5c3-9a282ae575cd",
        "colab": {
          "base_uri": "https://localhost:8080/"
        }
      },
      "outputs": [
        {
          "output_type": "stream",
          "name": "stdout",
          "text": [
            "Total convolution layers: 13\n",
            "conv_layers\n"
          ]
        }
      ],
      "source": [
        "# we will save the conv layer weights in this list\n",
        "model_weights =[]\n",
        "#we will save the 49 conv layers in this list\n",
        "conv_layers = []\n",
        "# get all the model children as list\n",
        "model_children = list(model.children())\n",
        "#counter to keep count of the conv layers\n",
        "counter = 0\n",
        "#append all the conv layers and their respective wights to the list\n",
        "\n",
        "model_children = model.children()\n",
        "for children in model_children:\n",
        "    if type(children) == nn.Sequential:\n",
        "        for child in children:\n",
        "            if type(child) == nn.Conv2d:\n",
        "                counter += 1\n",
        "                model_weights.append(child.weight)\n",
        "                conv_layers.append(child)\n",
        "\n",
        "print(f\"Total convolution layers: {counter}\")\n",
        "print(\"conv_layers\")"
      ]
    },
    {
      "cell_type": "code",
      "execution_count": 225,
      "metadata": {
        "id": "F2g6oQ_lus4Q",
        "outputId": "6b1f0283-d3ac-46c4-afea-a5b80386dd6d",
        "colab": {
          "base_uri": "https://localhost:8080/",
          "height": 230
        }
      },
      "outputs": [
        {
          "output_type": "stream",
          "name": "stderr",
          "text": [
            "WARNING:matplotlib.image:Clipping input data to the valid range for imshow with RGB data ([0..1] for floats or [0..255] for integers).\n"
          ]
        },
        {
          "output_type": "display_data",
          "data": {
            "text/plain": [
              "<Figure size 640x480 with 1 Axes>"
            ],
            "image/png": "[encoded data removed]"
          },
          "metadata": {}
        }
      ],
      "source": [
        "# get some random training images\n",
        "dataiter = iter(train_loader)\n",
        "images, labels = next(dataiter)\n",
        "imshow(torchvision.utils.make_grid(images[:10]))"
      ]
    },
    {
      "cell_type": "code",
      "execution_count": 226,
      "metadata": {
        "id": "7tvok0nFus4R",
        "outputId": "4e3d741f-cb59-435a-e685-970283830ada",
        "colab": {
          "base_uri": "https://localhost:8080/",
          "height": 468
        }
      },
      "outputs": [
        {
          "output_type": "stream",
          "name": "stderr",
          "text": [
            "WARNING:matplotlib.image:Clipping input data to the valid range for imshow with RGB data ([0..1] for floats or [0..255] for integers).\n"
          ]
        },
        {
          "output_type": "display_data",
          "data": {
            "text/plain": [
              "<Figure size 640x480 with 1 Axes>"
            ],
            "image/png": "[encoded data removed]"
          },
          "metadata": {}
        }
      ],
      "source": [
        "image = images[9]\n",
        "imshow(image)"
      ]
    },
    {
      "cell_type": "code",
      "execution_count": 227,
      "metadata": {
        "id": "BTkrdgTGus4R"
      },
      "outputs": [],
      "source": [
        "image = image.unsqueeze(0)\n",
        "image = image.to(device)"
      ]
    },
    {
      "cell_type": "code",
      "execution_count": 228,
      "metadata": {
        "id": "7-e2-UxWus4R",
        "outputId": "a0d9ba6d-22a2-404c-a721-2f021ca1fafc",
        "colab": {
          "base_uri": "https://localhost:8080/"
        }
      },
      "outputs": [
        {
          "output_type": "stream",
          "name": "stdout",
          "text": [
            "13\n",
            "torch.Size([1, 16, 17, 17])\n",
            "torch.Size([1, 32, 10, 10])\n",
            "torch.Size([1, 64, 6, 6])\n",
            "torch.Size([1, 128, 4, 4])\n",
            "torch.Size([1, 128, 3, 3])\n",
            "torch.Size([1, 256, 3, 3])\n",
            "torch.Size([1, 256, 3, 3])\n",
            "torch.Size([1, 256, 3, 3])\n",
            "torch.Size([1, 512, 4, 4])\n",
            "torch.Size([1, 256, 4, 4])\n",
            "torch.Size([1, 256, 4, 4])\n",
            "torch.Size([1, 64, 3, 3])\n",
            "torch.Size([1, 10, 3, 3])\n"
          ]
        }
      ],
      "source": [
        "outputs = []\n",
        "names = []\n",
        "for layer in conv_layers[0:]:\n",
        "    image = layer(image)\n",
        "    outputs.append(image)\n",
        "    names.append(str(layer))\n",
        "print(len(outputs))\n",
        "#print feature_maps\n",
        "for feature_map in outputs:\n",
        "    print(feature_map.shape)"
      ]
    },
    {
      "cell_type": "code",
      "execution_count": 229,
      "metadata": {
        "id": "CC_XINoxus4R",
        "outputId": "66de9abf-b093-487d-f568-740131b160dd",
        "colab": {
          "base_uri": "https://localhost:8080/"
        }
      },
      "outputs": [
        {
          "output_type": "stream",
          "name": "stdout",
          "text": [
            "(17, 17)\n",
            "(10, 10)\n",
            "(6, 6)\n",
            "(4, 4)\n",
            "(3, 3)\n",
            "(3, 3)\n",
            "(3, 3)\n",
            "(3, 3)\n",
            "(4, 4)\n",
            "(4, 4)\n",
            "(4, 4)\n",
            "(3, 3)\n",
            "(3, 3)\n"
          ]
        }
      ],
      "source": [
        "processed = []\n",
        "for feature_map in outputs:\n",
        "    feature_map = feature_map.squeeze(0)\n",
        "    gray_scale = torch.sum(feature_map,0)\n",
        "    # gray_scale = feature_map[0]\n",
        "    gray_scale = gray_scale / feature_map.shape[0]\n",
        "    processed.append(gray_scale.data.cpu().numpy())\n",
        "for fm in processed:\n",
        "    print(fm.shape)"
      ]
    },
    {
      "cell_type": "code",
      "execution_count": 230,
      "metadata": {
        "id": "oxE0L5htus4R",
        "outputId": "288e2f6a-4231-4ab1-9fee-0e1eb0a23f85",
        "colab": {
          "base_uri": "https://localhost:8080/",
          "height": 635
        }
      },
      "outputs": [
        {
          "output_type": "display_data",
          "data": {
            "text/plain": [
              "<Figure size 600x1000 with 13 Axes>"
            ],
            "image/png": "[encoded data removed]"
          },
          "metadata": {}
        }
      ],
      "source": [
        "fig = plt.figure(figsize=(6, 10))\n",
        "for i in range(len(processed)):\n",
        "    a = fig.add_subplot(5, 4, i+1)\n",
        "    imgplot = plt.imshow(processed[i])\n",
        "    a.axis(\"off\")\n",
        "    a.set_title(names[i].split('(')[0], fontsize=10)\n",
        "plt.savefig(str('feature_maps.jpg'), bbox_inches='tight')"
      ]
    },
    {
      "cell_type": "code",
      "execution_count": 231,
      "metadata": {
        "id": "rzeKlQY3us4R",
        "outputId": "f2c198bc-15c8-4d73-b1f6-dbeed0472b64",
        "colab": {
          "base_uri": "https://localhost:8080/",
          "height": 109
        }
      },
      "outputs": [
        {
          "output_type": "display_data",
          "data": {
            "text/plain": [
              "<Figure size 500x400 with 16 Axes>"
            ],
            "image/png": "[encoded data removed]"
          },
          "metadata": {}
        }
      ],
      "source": [
        "# visualize the first conv layer filters\n",
        "plt.figure(figsize=(5, 4))\n",
        "first_layer_weights = model_weights[0].cpu()\n",
        "for i, filter in enumerate(first_layer_weights):\n",
        "    plt.subplot(8, 8, i+1) # (8, 8) because in conv0 we have 7x7 filters and total of 64 (see printed shapes)\n",
        "    plt.imshow(filter[0, :, :].detach(), cmap='gray')\n",
        "    plt.axis('off')\n",
        "plt.show()"
      ]
    },
    {
      "cell_type": "code",
      "execution_count": 231,
      "metadata": {
        "id": "eJ25pSaaus4R"
      },
      "outputs": [],
      "source": []
    }
  ],
  "metadata": {
    "kernelspec": {
      "display_name": "Python 3",
      "name": "python3"
    },
    "language_info": {
      "codemirror_mode": {
        "name": "ipython",
        "version": 3
      },
      "file_extension": ".py",
      "mimetype": "text/x-python",
      "name": "python",
      "nbconvert_exporter": "python",
      "pygments_lexer": "ipython3",
      "version": "3.9.7"
    },
    "orig_nbformat": 4,
    "colab": {
      "provenance": [],
      "gpuType": "V100"
    },
    "accelerator": "GPU"
  },
  "nbformat": 4,
  "nbformat_minor": 0
}